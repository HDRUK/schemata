{
 "cells": [
  {
   "cell_type": "code",
   "execution_count": 1,
   "id": "fef4d5df-7b98-4393-b856-39535bf34458",
   "metadata": {},
   "outputs": [],
   "source": [
    "%load_ext autoreload\n",
    "%autoreload 2"
   ]
  },
  {
   "cell_type": "code",
   "execution_count": 2,
   "id": "9337ba13-a6ca-4234-9ee4-9d7d6e0bfa1b",
   "metadata": {
    "jupyter": {
     "source_hidden": true
    }
   },
   "outputs": [
    {
     "name": "stdout",
     "output_type": "stream",
     "text": [
      "\u001b[34mApplications\u001b[m\u001b[m/                     \u001b[34mgateway-2-integrations-testing\u001b[m\u001b[m/\n",
      "\u001b[34mDesktop\u001b[m\u001b[m/                          \u001b[34mgateway-api\u001b[m\u001b[m/\n",
      "\u001b[34mDocuments\u001b[m\u001b[m/                        \u001b[34mgateway-api-2\u001b[m\u001b[m/\n",
      "\u001b[34mDownloads\u001b[m\u001b[m/                        \u001b[34mgateway-automation-2\u001b[m\u001b[m/\n",
      "\u001b[34mLibrary\u001b[m\u001b[m/                          \u001b[34mgateway-web-2\u001b[m\u001b[m/\n",
      "\u001b[34mMovies\u001b[m\u001b[m/                           \u001b[34mgcp-multi-project-infrastructure\u001b[m\u001b[m/\n",
      "\u001b[34mMusic\u001b[m\u001b[m/                            get-pip.py\n",
      "\u001b[34mPictures\u001b[m\u001b[m/                         \u001b[34mgo\u001b[m\u001b[m/\n",
      "\u001b[34mPostman\u001b[m\u001b[m/                          \u001b[34mmetadata-federation-service\u001b[m\u001b[m/\n",
      "\u001b[34mPublic\u001b[m\u001b[m/                           \u001b[34mmongo-migration-suite\u001b[m\u001b[m/\n",
      "Schema Problems (1).ipynb         \u001b[34mschemata-2\u001b[m\u001b[m/\n",
      "\u001b[34mclamav-scanner\u001b[m\u001b[m/                   \u001b[34msearch-service\u001b[m\u001b[m/\n",
      "\u001b[34mdar-application-service\u001b[m\u001b[m/          \u001b[34mspeedi-as-web\u001b[m\u001b[m/\n",
      "\u001b[34mdementia-trials\u001b[m\u001b[m/                  \u001b[34mtraser\u001b[m\u001b[m/\n",
      "\u001b[34mdta-web\u001b[m\u001b[m/                          \u001b[34mtraser-mapping-files\u001b[m\u001b[m/\n",
      "\u001b[34mfma-custodian-test-server\u001b[m\u001b[m/\n"
     ]
    }
   ],
   "source": [
    "ls ../"
   ]
  },
  {
   "cell_type": "code",
   "execution_count": 3,
   "id": "69f3fd46-2e34-46e9-9856-23c75872d262",
   "metadata": {},
   "outputs": [
    {
     "name": "stdout",
     "output_type": "stream",
     "text": [
      "Access.py                   Organisation.py\n",
      "Accessibility.py            Origin.py\n",
      "Age.py                      Provenance.py\n",
      "Coverage.py                 Publisher.py\n",
      "DataColumn.py               Required.py\n",
      "DataTable.py                Revision.py\n",
      "DataValue.py                SampleDonor.py\n",
      "DatasetDescriptor.py        Summary.py\n",
      "DatasetLinkage.py           Temporal.py\n",
      "DemographicFrequency.py     TissueSampleMetadata.py\n",
      "Disease.py                  TissuesSampleCollection.py\n",
      "Ethnicity.py                Usage.py\n",
      "FormatAndStandards.py       __init__.py\n",
      "Linkage.py                  \u001b[34m__pycache__\u001b[m\u001b[m/\n",
      "Observations.py             \u001b[34mannotations\u001b[m\u001b[m/\n",
      "Omics.py\n"
     ]
    }
   ],
   "source": [
    "ls ../schemata-2/hdr_schemata/models/GWDM/v2_0/"
   ]
  },
  {
   "cell_type": "code",
   "execution_count": 4,
   "id": "406d8c74-6005-409a-b89b-37daac0d1c7e",
   "metadata": {},
   "outputs": [
    {
     "name": "stdout",
     "output_type": "stream",
     "text": [
      "Requirement already satisfied: pydantic-core in /Users/jamiebyrne/.pyenv/versions/3.12.9/lib/python3.12/site-packages (2.10.1)\n",
      "Requirement already satisfied: typing-extensions!=4.7.0,>=4.6.0 in /Users/jamiebyrne/.pyenv/versions/3.12.9/lib/python3.12/site-packages (from pydantic-core) (4.12.2)\n",
      "Note: you may need to restart the kernel to use updated packages.\n"
     ]
    }
   ],
   "source": [
    "pip install --no-cache-dir pydantic-core\n"
   ]
  },
  {
   "cell_type": "code",
   "execution_count": 5,
   "id": "4c8c765f-f92e-4375-8701-db3ef3937eeb",
   "metadata": {},
   "outputs": [
    {
     "name": "stdout",
     "output_type": "stream",
     "text": [
      "Obtaining file:///Users/jamiebyrne/schemata-2\n",
      "  Installing build dependencies ... \u001b[?2done\n",
      "\u001b[?25h  Checking if build backend supports build_editable ... \u001b[?25ldone\n",
      "\u001b[?25h  Getting requirements to build editable ... \u001b[?25ldone\n",
      "\u001b[?25h  Preparing editable metadata (pyproject.toml) ... \u001b[?25ldone\n",
      "\u001b[?25hRequirement already satisfied: pydantic==2.4.2 in /Users/jamiebyrne/.pyenv/versions/3.12.9/lib/python3.12/site-packages (from hdr_schemata==0.1) (2.4.2)\n",
      "Requirement already satisfied: email-validator==2.1.0.post1 in /Users/jamiebyrne/.pyenv/versions/3.12.9/lib/python3.12/site-packages (from hdr_schemata==0.1) (2.1.0.post1)\n",
      "Requirement already satisfied: pytest==7.4.2 in /Users/jamiebyrne/.pyenv/versions/3.12.9/lib/python3.12/site-packages (from hdr_schemata==0.1) (7.4.2)\n",
      "Requirement already satisfied: dnspython>=2.0.0 in /Users/jamiebyrne/.pyenv/versions/3.12.9/lib/python3.12/site-packages (from email-validator==2.1.0.post1->hdr_schemata==0.1) (2.7.0)\n",
      "Requirement already satisfied: idna>=2.0.0 in /Users/jamiebyrne/.pyenv/versions/3.12.9/lib/python3.12/site-packages (from email-validator==2.1.0.post1->hdr_schemata==0.1) (3.10)\n",
      "Requirement already satisfied: annotated-types>=0.4.0 in /Users/jamiebyrne/.pyenv/versions/3.12.9/lib/python3.12/site-packages (from pydantic==2.4.2->hdr_schemata==0.1) (0.7.0)\n",
      "Requirement already satisfied: pydantic-core==2.10.1 in /Users/jamiebyrne/.pyenv/versions/3.12.9/lib/python3.12/site-packages (from pydantic==2.4.2->hdr_schemata==0.1) (2.10.1)\n",
      "Requirement already satisfied: typing-extensions>=4.6.1 in /Users/jamiebyrne/.pyenv/versions/3.12.9/lib/python3.12/site-packages (from pydantic==2.4.2->hdr_schemata==0.1) (4.12.2)\n",
      "Requirement already satisfied: iniconfig in /Users/jamiebyrne/.pyenv/versions/3.12.9/lib/python3.12/site-packages (from pytest==7.4.2->hdr_schemata==0.1) (2.0.0)\n",
      "Requirement already satisfied: packaging in /Users/jamiebyrne/.pyenv/versions/3.12.9/lib/python3.12/site-packages (from pytest==7.4.2->hdr_schemata==0.1) (24.2)\n",
      "Requirement already satisfied: pluggy<2.0,>=0.12 in /Users/jamiebyrne/.pyenv/versions/3.12.9/lib/python3.12/site-packages (from pytest==7.4.2->hdr_schemata==0.1) (1.5.0)\n",
      "Building wheels for collected packages: hdr_schemata\n",
      "  Building editable for hdr_schemata (pyproject.toml) ... \u001b[?25ldone\n",
      "\u001b[?25h  Created wheel for hdr_schemata: filename=hdr_schemata-0.1-0.editable-py3-none-any.whl size=2966 sha256=c6b0e3ce9160c04e2c4bf723191b9aa56629b42a30e96866bfc22934773cc839\n",
      "  Stored in directory: /private/var/folders/ft/8y2p5ppd3yn4lvv1qs3wcy6c0000gp/T/pip-ephem-wheel-cache-3e191xmg/wheels/59/4d/93/498fccac42b1f0479127b5278717abe3a972219cc4c55a3b1f\n",
      "Successfully built hdr_schemata\n",
      "Installing collected packages: hdr_schemata\n",
      "  Attempting uninstall: hdr_schemata\n",
      "    Found existing installation: hdr_schemata 0.1\n",
      "    Uninstalling hdr_schemata-0.1:\n",
      "      Successfully uninstalled hdr_schemata-0.1\n",
      "Successfully installed hdr_schemata-0.1\n",
      "Note: you may need to restart the kernel to use updated packages.\n"
     ]
    }
   ],
   "source": [
    "pip install -e ../schemata-2/"
   ]
  },
  {
   "cell_type": "code",
   "execution_count": 6,
   "id": "91129f22-3f7c-487d-bfee-eeced0498a46",
   "metadata": {},
   "outputs": [],
   "source": [
    "from hdr_schemata.models.GWDM import Gwdm20 "
   ]
  },
  {
   "cell_type": "code",
   "execution_count": 7,
   "id": "182babf0-cef6-42e1-bd22-4932d3ebf38d",
   "metadata": {},
   "outputs": [
    {
     "data": {
      "text/plain": [
       "hdr_schemata.models.GWDM.v2_0.Gwdm20"
      ]
     },
     "execution_count": 7,
     "metadata": {},
     "output_type": "execute_result"
    }
   ],
   "source": [
    "Gwdm20"
   ]
  },
  {
   "cell_type": "code",
   "execution_count": 8,
   "id": "81e616c1-669a-48a8-9fd5-7d2860df7af1",
   "metadata": {},
   "outputs": [],
   "source": [
    "import requests"
   ]
  },
  {
   "cell_type": "code",
   "execution_count": 9,
   "id": "19e866cf-18e7-4836-a06a-ceeb1f01f32b",
   "metadata": {},
   "outputs": [],
   "source": [
    "API_KEY='o0mSdnQjnAff6HUkVuje4sJ0fDLrw3xLzAm3HKI7'\n",
    "CLIENT_KEY='NDY7l7PcTDVQrRsukGJd6NCkS2xvIvlBaMTe9dH1'"
   ]
  },
  {
   "cell_type": "code",
   "execution_count": 10,
   "id": "fc30ca49-6304-4625-b21a-95bbd78631cf",
   "metadata": {},
   "outputs": [],
   "source": [
    "import requests\n",
    "\n",
    "url = \"https://api.healthdatagateway.org/api/v1/datasets?per_page=25\"\n",
    "headers = {\n",
    "    \"x-application-id\": API_KEY,\n",
    "    \"x-client-id\":CLIENT_KEY\n",
    "}\n",
    "\n",
    "response = requests.get(url, headers)\n",
    "data = [x['latest_metadata']['metadata']['metadata'] for x in response.json()['data']]"
   ]
  },
  {
   "cell_type": "markdown",
   "id": "49cad706-adb8-4273-9f6a-10b8f5d0ebfb",
   "metadata": {},
   "source": [
    "bug here...."
   ]
  },
  {
   "cell_type": "code",
   "execution_count": 11,
   "id": "fb838424-a42f-4328-bdf1-58ab17a7c6a6",
   "metadata": {},
   "outputs": [
    {
     "data": {
      "text/plain": [
       "{'code': 401,\n",
       " 'message': 'Please provide a x-application-id and x-client-id in your headers'}"
      ]
     },
     "execution_count": 11,
     "metadata": {},
     "output_type": "execute_result"
    }
   ],
   "source": [
    "url = \"https://api.healthdatagateway.org/api/v1/integrations/datasets?per_page=25\"\n",
    "headers = {\n",
    "    \"x-application-id\": API_KEY,\n",
    "    \"x-client-id\":CLIENT_KEY\n",
    "}\n",
    "\n",
    "response = requests.get(url, headers)\n",
    "response.json()"
   ]
  },
  {
   "cell_type": "code",
   "execution_count": 12,
   "id": "34cb5316-fb07-4520-b643-430920aa086e",
   "metadata": {},
   "outputs": [
    {
     "data": {
      "text/plain": [
       "25"
      ]
     },
     "execution_count": 12,
     "metadata": {},
     "output_type": "execute_result"
    }
   ],
   "source": [
    "len(data)"
   ]
  },
  {
   "cell_type": "code",
   "execution_count": 13,
   "id": "fa0279af-7392-42a7-a654-de2744b97007",
   "metadata": {},
   "outputs": [
    {
     "data": {
      "text/plain": [
       "{'required': {'gatewayId': '1159',\n",
       "  'gatewayPid': '2fa681ce-36a5-45b7-9d70-e921fc70c03e',\n",
       "  'issued': '2025-02-19T08:25:19.000Z',\n",
       "  'modified': '2025-02-19T08:25:19.000Z',\n",
       "  'version': '1.0.0',\n",
       "  'revisions': [{'version': '1.0.0', 'url': 'http://www.example.com/'}]},\n",
       " 'summary': {'abstract': 'A regional dataset extracted for WMSDE in Badgernet format.',\n",
       "  'contactPoint': 'wmsde@uhb.nhs.uk',\n",
       "  'keywords': None,\n",
       "  'controlledKeywords': None,\n",
       "  'datasetType': 'Health and disease',\n",
       "  'datasetSubType': 'Not applicable',\n",
       "  'populationSize': 250000,\n",
       "  'description': 'Maternity data from West Birmingham.',\n",
       "  'doiName': None,\n",
       "  'shortTitle': 'Maternity (Badgernet) West Midlands Provider C',\n",
       "  'title': 'Maternity (Badgernet) West Midlands Provider C',\n",
       "  'publisher': {'name': 'West Midlands Secure Data Environment (SDE)',\n",
       "   'gatewayId': '103',\n",
       "   'rorId': None},\n",
       "  'inPipeline': 'Not available'},\n",
       " 'coverage': {'pathway': None,\n",
       "  'spatial': 'West Midlands',\n",
       "  'followUp': None,\n",
       "  'typicalAgeRange': None,\n",
       "  'datasetCompleteness': None},\n",
       " 'provenance': {'origin': {'purpose': None,\n",
       "   'source': None,\n",
       "   'collectionSituation': None,\n",
       "   'imageContrast': 'Not stated'},\n",
       "  'temporal': {'endDate': None,\n",
       "   'startDate': '2000-01-01T07:26:17.000Z',\n",
       "   'timeLag': '2-6 months',\n",
       "   'accrualPeriodicity': 'Static',\n",
       "   'distributionReleaseDate': None}},\n",
       " 'accessibility': {'access': {'deliveryLeadTime': '2-6 months',\n",
       "   'jurisdiction': None,\n",
       "   'dataController': None,\n",
       "   'dataProcessor': None,\n",
       "   'accessRights': 'Information Governance and Ethics - West Midlands Secure Data Environment (https://westmidlandssde.nhs.uk/information-governance-and-ethics)',\n",
       "   'accessService': 'Data Request Process - West Midlands Secure Data Environment (https://westmidlandssde.nhs.uk/research/data-request)',\n",
       "   'accessRequestCost': 'Please email wmsde@uhb.nhs.uk',\n",
       "   'accessServiceCategory': 'TRE/SDE'},\n",
       "  'usage': {'dataUseLimitation': None,\n",
       "   'dataUseRequirement': None,\n",
       "   'resourceCreator': {'name': None, 'gatewayId': None, 'rorId': None}},\n",
       "  'formatAndStandards': {'vocabularyEncodingSchemes': 'LOCAL',\n",
       "   'conformsTo': 'LOCAL',\n",
       "   'languages': 'en',\n",
       "   'formats': 'Structured'}},\n",
       " 'linkage': {'isGeneratedUsing': None,\n",
       "  'associatedMedia': None,\n",
       "  'dataUses': None,\n",
       "  'isReferenceIn': None,\n",
       "  'tools': None,\n",
       "  'datasetLinkage': {'isDerivedFrom': None,\n",
       "   'isPartOf': None,\n",
       "   'isMemberOf': None,\n",
       "   'linkedDatasets': None},\n",
       "  'investigations': None,\n",
       "  'syntheticDataWebLink': None,\n",
       "  'publicationAboutDataset': [],\n",
       "  'publicationUsingDataset': []},\n",
       " 'observations': [{'observedNode': 'Persons',\n",
       "   'measuredValue': 250000,\n",
       "   'observationDate': '2025-02-20T00:00:00.000Z',\n",
       "   'measuredProperty': 'Count',\n",
       "   'disambiguatingDescription': None}],\n",
       " 'structuralMetadata': [],\n",
       " 'tissuesSampleCollection': [{'materialType': 'None/not available',\n",
       "   'id': None,\n",
       "   'dataCategories': None,\n",
       "   'accessConditions': None,\n",
       "   'collectionType': None,\n",
       "   'disease': None,\n",
       "   'storageTemperature': None,\n",
       "   'sampleAgeRange': None,\n",
       "   'tissueSampleMetadata': None}],\n",
       " 'demographicFrequency': None,\n",
       " 'omics': None}"
      ]
     },
     "execution_count": 13,
     "metadata": {},
     "output_type": "execute_result"
    }
   ],
   "source": [
    "data[21]"
   ]
  },
  {
   "cell_type": "code",
   "execution_count": 14,
   "id": "19d88e93-d26a-40d0-9bc7-d6e0c7b27aa2",
   "metadata": {},
   "outputs": [
    {
     "data": {
      "text/plain": [
       "Gwdm20(required=Required(gatewayId=1159, gatewayPid='2fa681ce-36a5-45b7-9d70-e921fc70c03e', issued=datetime.datetime(2025, 2, 19, 8, 25, 19, tzinfo=TzInfo(UTC)), modified=datetime.datetime(2025, 2, 19, 8, 25, 19, tzinfo=TzInfo(UTC)), revisions=[Revision(version='1.0.0', url=Url(root=Url('http://www.example.com/')))], version='1.0.0'), summary=Summary(title=TwoHundredFiftyFiveCharacters(root='Maternity (Badgernet) West Midlands Provider C'), shortTitle=ShortTitle(root='Maternity (Badgernet) West Midlands Provider C'), doiName=None, abstract=LongAbstractText(root='A regional dataset extracted for WMSDE in Badgernet format.'), keywords=None, controlledKeywords=None, contactPoint='wmsde@uhb.nhs.uk', datasetType=CommaSeparatedValuesV2(root='Health and disease'), description=LongDescription(root='Maternity data from West Birmingham.'), publisher=Organisation(name=Name(root='West Midlands Secure Data Environment (SDE)'), gatewayId=103, rorId=None), populationSize=250000, datasetSubType=CommaSeparatedValuesV2(root='Not applicable'), inPipeline=<Pipeline.NOT_AVAILABLE: 'Not available'>), coverage=Coverage(spatial=CommaSeparatedValuesV2(root='West Midlands'), pathway=None, followUp=None, typicalAgeRange=None, datasetCompleteness=None), provenance=Provenance(origin=Origin(purpose=None, source=None, collectionSituation=None, imageContrast=<Ternary.NOT_STATED: 'Not stated'>), temporal=Temporal(startDate=datetime.datetime(2000, 1, 1, 7, 26, 17, tzinfo=TzInfo(UTC)), endDate=None, timeLag=<TimeLagV2.TWO_SIX_MONTHS: '2-6 months'>, accrualPeriodicity=<PeriodicityV2.STATIC: 'Static'>, distributionReleaseDate=None)), accessibility=Accessibility(usage=Usage(dataUseLimitation=None, dataUseRequirement=None, resourceCreator=Organisation(name=None, gatewayId=None, rorId=None)), access=Access(accessRights=CommaSeparatedValuesV2(root='Information Governance and Ethics - West Midlands Secure Data Environment (https://westmidlandssde.nhs.uk/information-governance-and-ethics)'), accessService=LongDescription(root='Data Request Process - West Midlands Secure Data Environment (https://westmidlandssde.nhs.uk/research/data-request)'), accessRequestCost=LongDescription(root='Please email wmsde@uhb.nhs.uk'), deliveryLeadTime=<DeliveryLeadTimeV2.TWO_SIX_MONTHS: '2-6 months'>, jurisdiction=None, dataController=None, dataProcessor=None, accessServiceCategory=CommaSeparatedValuesV2(root='TRE/SDE')), formatAndStandards=FormatAndStandards(vocabularyEncodingSchemes=CommaSeparatedValuesV2(root='LOCAL'), conformsTo=CommaSeparatedValuesV2(root='LOCAL'), languages=CommaSeparatedValuesV2(root='en'), formats=CommaSeparatedValuesV2(root='Structured'))), linkage=Linkage(isGeneratedUsing=None, associatedMedia=None, dataUses=None, isReferenceIn=None, tools=None, datasetLinkage=DatasetLinkage(isDerivedFrom=None, isPartOf=None, linkedDatasets=None, isMemberOf=None), investigations=None, syntheticDataWebLink=None, publicationAboutDataset=[], publicationUsingDataset=[]), observations=[Observation(observedNode=<StatisticalPopulationConstrainedV2.PERSONS: 'Persons'>, measuredValue=250000, disambiguatingDescription=None, observationDate=datetime.date(2025, 2, 20), measuredProperty=MeasuredProperty(root='Count'))], structuralMetadata=[], tissuesSampleCollection=[TissuesSampleCollection(id=None, dataCategories=None, materialType=CommaSeparatedValuesV2(root='None/not available'), accessConditions=None, collectionType=None, disease=None, storageTemperature=None, sampleAgeRange=None, tissueSampleMetadata=None)], demographicFrequency=None, omics=None)"
      ]
     },
     "execution_count": 14,
     "metadata": {},
     "output_type": "execute_result"
    }
   ],
   "source": [
    "model = Gwdm20(**data[21])\n",
    "model"
   ]
  },
  {
   "cell_type": "code",
   "execution_count": 15,
   "id": "7cf6d5e7-224c-463e-9fe4-da1dd7f9db80",
   "metadata": {},
   "outputs": [
    {
     "data": {
      "text/plain": [
       "LongAbstractText(root='A regional dataset extracted for WMSDE in Badgernet format.')"
      ]
     },
     "execution_count": 15,
     "metadata": {},
     "output_type": "execute_result"
    }
   ],
   "source": [
    "model.summary.abstract"
   ]
  },
  {
   "cell_type": "code",
   "execution_count": 16,
   "id": "841a829a-f3c3-4cf6-b236-4a0a240d8808",
   "metadata": {},
   "outputs": [
    {
     "data": {
      "text/plain": [
       "TwoHundredFiftyFiveCharacters(root='Maternity (Badgernet) West Midlands Provider C')"
      ]
     },
     "execution_count": 16,
     "metadata": {},
     "output_type": "execute_result"
    }
   ],
   "source": [
    "model.summary.title"
   ]
  },
  {
   "cell_type": "code",
   "execution_count": 17,
   "id": "cd6d00c1-f7ec-4b3e-ba36-fe186356c531",
   "metadata": {},
   "outputs": [],
   "source": [
    "models = [\n",
    "    Gwdm20(**d)\n",
    "    for d in data \n",
    "]"
   ]
  },
  {
   "cell_type": "code",
   "execution_count": 18,
   "id": "4ae1ced7-2310-4e9b-917f-df86578b5aa5",
   "metadata": {},
   "outputs": [
    {
     "data": {
      "text/plain": [
       "Gwdm20(required=Required(gatewayId=1181, gatewayPid='8682549a-3fb6-421e-8b79-4881945ba02f', issued=datetime.datetime(2025, 2, 28, 11, 9, 17, tzinfo=TzInfo(UTC)), modified=datetime.datetime(2025, 2, 28, 11, 9, 17, tzinfo=TzInfo(UTC)), revisions=[Revision(version='1.0.0', url=Url(root=Url('http://www.example.com/')))], version='1.0.0'), summary=Summary(title=TwoHundredFiftyFiveCharacters(root='Scottish Linked Pregnancy and Baby Dataset (SLiPBD)'), shortTitle=ShortTitle(root='Scottish Linked Pregnancy and Baby Dataset (SLiPBD)'), doiName=None, abstract=LongAbstractText(root='Scottish Linked Pregnancy and Baby Dataset (SLiPBD) is a population-based cohort of all pregnancies and births in Scotland from 2000 to present.'), keywords=CommaSeparatedValuesV2(root='Obstetrics, Maternity'), controlledKeywords=None, contactPoint='phs.edris@phs.scot', datasetType=CommaSeparatedValuesV2(root='Health and disease'), description=LongDescription(root=\"SLiPBD links and reconciles the following existing national datasets relating to ongoing and completed pregnancies:\\n•\\tGeneral hospital discharge records relating to care for a spontaneous pregnancy loss\\nMaternity hospital discharge records relating to care for a spontaneous pregnancy loss, termination of pregnancy, or birth\\n•\\tTermination of pregnancy notifications\\n•\\tStatutory live and stillbirth registrations\\nKey information included on all babies in SLiPBD includes estimated date of conception, end of pregnancy date, gestation, multiple pregnancy status, pregnancy outcome, and maternal sociodemographic characteristics. For live births, additional information on the birth, the baby's sociodemographic characteristics, and subsequent infant deaths is included\"), publisher=Organisation(name=Name(root='Public Health Scotland'), gatewayId=7, rorId=None), populationSize=-1, datasetSubType=CommaSeparatedValuesV2(root='Maternity and neonatology;,;Births and deaths'), inPipeline=<Pipeline.AVAILABLE: 'Available'>), coverage=Coverage(spatial=CommaSeparatedValuesV2(root='United Kingdom, Scotland'), pathway=None, followUp=None, typicalAgeRange=AgeRange(root='0-150'), datasetCompleteness=None), provenance=Provenance(origin=Origin(purpose=CommaSeparatedValuesV2(root='Administrative'), source=CommaSeparatedValuesV2(root='EPR'), collectionSituation=None, imageContrast=<Ternary.NOT_STATED: 'Not stated'>), temporal=Temporal(startDate=datetime.datetime(2000, 1, 1, 11, 7, 32, tzinfo=TzInfo(UTC)), endDate=None, timeLag=<TimeLagV2.ONE_TWO_MONTHS: '1-2 months'>, accrualPeriodicity=<PeriodicityV2.CONTINUOUS: 'Continuous'>, distributionReleaseDate=None)), accessibility=Accessibility(usage=Usage(dataUseLimitation=CommaSeparatedValuesV2(root='General research use'), dataUseRequirement=CommaSeparatedValuesV2(root='Not for profit use;,;Project-specific restrictions'), resourceCreator=Organisation(name=None, gatewayId=None, rorId=None)), access=Access(accessRights=CommaSeparatedValuesV2(root='https://publichealthscotland.scot/services/data-research-and-innovation-services/electronic-data-research-and-innovation-service-edris/services-we-offer/'), accessService=LongDescription(root='Scottish National Safe Haven / Trusted Research Environment: https://publichealthscotland.scot/services/data-research-and-innovation-services/electronic-data-research-and-innovation-service-edris/national-safe-haven-nsh/'), accessRequestCost=LongDescription(root='https://publichealthscotland.scot/services/data-research-and-innovation-services/electronic-data-research-and-innovation-service-edris/cost-of-services/'), deliveryLeadTime=<DeliveryLeadTimeV2.VARIABLE: 'Variable'>, jurisdiction=CommaSeparatedValuesV2(root='UK'), dataController=LongDescription(root='Public Health Scotland'), dataProcessor=LongDescription(root='National Services Scotland'), accessServiceCategory=CommaSeparatedValuesV2(root='TRE/SDE')), formatAndStandards=FormatAndStandards(vocabularyEncodingSchemes=CommaSeparatedValuesV2(root='NHS SCOTLAND NATIONAL CODES'), conformsTo=CommaSeparatedValuesV2(root='NHS SCOTLAND DATA DICTIONARY'), languages=CommaSeparatedValuesV2(root='en'), formats=CommaSeparatedValuesV2(root='text/csv'))), linkage=Linkage(isGeneratedUsing=None, associatedMedia=CommaSeparatedValuesV2(root='https://publichealthscotland.scot/population-health/early-years-and-young-people/maternity-and-births/overview/scottish-linked-pregnancy-and-baby-dataset-slipbd/'), dataUses=None, isReferenceIn=None, tools=None, datasetLinkage=DatasetLinkage(isDerivedFrom=None, isPartOf=None, linkedDatasets=None, isMemberOf=None), investigations=None, syntheticDataWebLink=None, publicationAboutDataset=[], publicationUsingDataset=[]), observations=[], structuralMetadata=[DataTable(name='SLiPBD', description='SLiPBD', columns=[DataColumn(name=Name(root='pregnancy_id'), dataType='character', description='Unique identifier produced in the process to create a reference for every unique pregnancy', sensitive=False, values=None)]), DataTable(name='SLiPBD', description='SLiPBD', columns=[DataColumn(name=Name(root='mother_upi'), dataType='character', description='The mother unique up to date CHI (UPI)', sensitive=False, values=None)]), DataTable(name='SLiPBD', description='SLiPBD', columns=[DataColumn(name=Name(root='baby_chi'), dataType='character', description='The baby unique up to date CHI (UPI)', sensitive=False, values=None)]), DataTable(name='SLiPBD', description='SLiPBD', columns=[DataColumn(name=Name(root='nrs_triplicate_id'), dataType='character', description='NRS birth registration triplicate ID:\\n - NRS triplicate ID is a combination of year of registration (2 digits), registration district (4 digits) and entry number (3 digits)\\n - Prefix B or S is added in this dataset only to distinguish between live(B) and stillbirth(S) IDs', sensitive=False, values=None)]), DataTable(name='SLiPBD', description='SLiPBD', columns=[DataColumn(name=Name(root='infant_deaths_triplicate_id'), dataType='character', description='Triplicate ID for NRS infant death record:\\nNRS triplicate ID is a combination of year of registration (2 digits), registration disctict (4 digits) and entry number (3 digits)', sensitive=False, values=None)]), DataTable(name='SLiPBD', description='SLiPBD', columns=[DataColumn(name=Name(root='est_date_conception'), dataType='date', description='Estimated conception date:\\nEstimated from gestation at outcome, or from gestation at booking (based on last menstrual period) for ongoing pregnancies and those with unknown outcomes', sensitive=False, values=None)]), DataTable(name='SLiPBD', description='SLiPBD', columns=[DataColumn(name=Name(root='date_end_pregnancy'), dataType='date', description='Date pregnancy ended', sensitive=False, values=None)]), DataTable(name='SLiPBD', description='SLiPBD', columns=[DataColumn(name=Name(root='gest_end_pregnancy'), dataType='numeric', description='Gestation (in completed weeks) at end of pregnancy\\nImputed to 40 weeks for unknown outcome, unless this results in an overlapping pregnancy', sensitive=False, values=None)]), DataTable(name='SLiPBD', description='SLiPBD', columns=[DataColumn(name=Name(root='gestation_ascertainment'), dataType='character', description='Method by which gestation has been determined', sensitive=False, values=None)]), DataTable(name='SLiPBD', description='SLiPBD', columns=[DataColumn(name=Name(root='total_births_this_pregnancy'), dataType='numeric', description='Number of babies (live births and stillbirths only) associated with pregnancy ID', sensitive=False, values=None)]), DataTable(name='SLiPBD', description='SLiPBD', columns=[DataColumn(name=Name(root='total_fetuses_this_pregnancy'), dataType='numeric', description='Number of fetuses associated with pregnancy ID', sensitive=False, values=None)]), DataTable(name='SLiPBD', description='SLiPBD', columns=[DataColumn(name=Name(root='fetus_outcome1'), dataType='character', description='Primary outcome for fetus/baby', sensitive=False, values=None)]), DataTable(name='SLiPBD', description='SLiPBD', columns=[DataColumn(name=Name(root='fetus_outcome2'), dataType='character', description='Additional information when more than one pregnancy outcome type applies to a specific fetus/baby (usually still or live birth and termination of pregnancy).\\n\\nValid combinations of outcome 1 / outcome 2 are:\\n- termination with one of the following: \\n     - live, stillbirth, miscarriage, ectopic pregnancy, molar pregnancy (in any order). \\n\\nMaternal death is also allowed as a secondary outcome if there is a record of a fetus/baby outcome and the date of maternal death is on the same date the pregnancy ends', sensitive=False, values=None)]), DataTable(name='SLiPBD', description='SLiPBD', columns=[DataColumn(name=Name(root='maternal_death_in_preg'), dataType='numeric', description='A flag to show if the mother died during pregnancy (determined using imputed end date if no other record of pregnancy ending is found)', sensitive=False, values=None)]), DataTable(name='SLiPBD', description='SLiPBD', columns=[DataColumn(name=Name(root='maternal_death_postpartum'), dataType='numeric', description='A flag to show if the mother died during the postpartum period (6 weeks after the pregnancy ended)', sensitive=False, values=None)]), DataTable(name='SLiPBD', description='SLiPBD', columns=[DataColumn(name=Name(root='any_maternal_death'), dataType='numeric', description='A flag to show if the mother died during pregnancy or in the postpartum period', sensitive=False, values=None)]), DataTable(name='SLiPBD', description='SLiPBD', columns=[DataColumn(name=Name(root='date_maternal_death'), dataType='date', description='Date of maternal death', sensitive=False, values=None)]), DataTable(name='SLiPBD', description='SLiPBD', columns=[DataColumn(name=Name(root='maternal_emigration_in_preg'), dataType='character', description='A flag to show if mother has been recorded as emigrating during pregnancy (taken from CHI database)', sensitive=False, values=None)]), DataTable(name='SLiPBD', description='SLiPBD', columns=[DataColumn(name=Name(root='date_maternal_emigration'), dataType='date', description='Date of emigration if mother has been recorded as emigrating during pregnancy (taken from CHI database)', sensitive=False, values=None)]), DataTable(name='SLiPBD', description='SLiPBD', columns=[DataColumn(name=Name(root='mother_dob'), dataType='date', description='Mother date of birth', sensitive=False, values=None)]), DataTable(name='SLiPBD', description='SLiPBD', columns=[DataColumn(name=Name(root='maternal_age_conception'), dataType='numeric', description='Mother age at conception', sensitive=False, values=None)]), DataTable(name='SLiPBD', description='SLiPBD', columns=[DataColumn(name=Name(root='maternal_age_end_preg'), dataType='numeric', description='Mother age at end of pregnancy', sensitive=False, values=None)]), DataTable(name='SLiPBD', description='SLiPBD', columns=[DataColumn(name=Name(root='maternal_postcode_booking'), dataType='character', description='Mother postcode at antenatal booking appointment', sensitive=False, values=None)]), DataTable(name='SLiPBD', description='SLiPBD', columns=[DataColumn(name=Name(root='maternal_postcode_end_preg'), dataType='character', description='Mother postcode at end of pregnancy', sensitive=False, values=None)]), DataTable(name='SLiPBD', description='SLiPBD', columns=[DataColumn(name=Name(root='maternal_nhs_board_res_end_preg'), dataType='character', description='Mother NHS Board of Residence (CODE) at end of pregnancy', sensitive=False, values=None)]), DataTable(name='SLiPBD', description='SLiPBD', columns=[DataColumn(name=Name(root='maternal_nhs_board_res_name_end_preg'), dataType='character', description='Mother NHS Board of Residence (NAME) at end of pregnancy', sensitive=False, values=None)]), DataTable(name='SLiPBD', description='SLiPBD', columns=[DataColumn(name=Name(root='maternal_nhs_board_res_booking'), dataType='character', description='Mother NHS Board of Residence (CODE) at booking', sensitive=False, values=None)]), DataTable(name='SLiPBD', description='SLiPBD', columns=[DataColumn(name=Name(root='maternal_nhs_board_res_name_at_booking'), dataType='character', description='Mother NHS Board of Residence (NAME) at booking', sensitive=False, values=None)]), DataTable(name='SLiPBD', description='SLiPBD', columns=[DataColumn(name=Name(root='maternal_SIMD_booking'), dataType='character', description='Mother deprivation (SIMD) at booking', sensitive=False, values=None)]), DataTable(name='SLiPBD', description='SLiPBD', columns=[DataColumn(name=Name(root='maternal_SIMD_end_preg'), dataType='character', description='Mother deprivation (SIMD) at end of pregnancy', sensitive=False, values=None)]), DataTable(name='SLiPBD', description='SLiPBD', columns=[DataColumn(name=Name(root='year_of_booking'), dataType='numeric', description='The calendar year of booking appointment', sensitive=False, values=None)]), DataTable(name='SLiPBD', description='SLiPBD', columns=[DataColumn(name=Name(root='year_of_delivery'), dataType='numeric', description='The calendar year of delivery', sensitive=False, values=None)]), DataTable(name='SLiPBD', description='SLiPBD', columns=[DataColumn(name=Name(root='maternal_CouncilArea_booking'), dataType='character', description='Mother Council area (CODE) at booking', sensitive=False, values=None)]), DataTable(name='SLiPBD', description='SLiPBD', columns=[DataColumn(name=Name(root='maternal_CouncilArea_end_preg'), dataType='character', description='Mother Council area (CODE) at end of pregnancy', sensitive=False, values=None)]), DataTable(name='SLiPBD', description='SLiPBD', columns=[DataColumn(name=Name(root='maternal_CouncilAreaName_booking'), dataType='character', description='Mother Council area (NAME) at booking', sensitive=False, values=None)]), DataTable(name='SLiPBD', description='SLiPBD', columns=[DataColumn(name=Name(root='maternal_CouncilAreaName_end'), dataType='character', description='Mother Council area (NAME) at end of pregnancy', sensitive=False, values=None)]), DataTable(name='SLiPBD', description='SLiPBD', columns=[DataColumn(name=Name(root='maternal_ethnicity'), dataType='character', description='Mother ethnicity', sensitive=False, values=None)]), DataTable(name='SLiPBD', description='SLiPBD', columns=[DataColumn(name=Name(root='n_prev_pregnancies'), dataType='numeric', description='The number of previous pregnancies recorded', sensitive=False, values=None)]), DataTable(name='SLiPBD', description='SLiPBD', columns=[DataColumn(name=Name(root='n_prev_deliveries'), dataType='numeric', description='The number of previous deliveries recorded  (i.e. total previous pregnancies resulting in live  and or  stillbirth(s).)', sensitive=False, values=None)]), DataTable(name='SLiPBD', description='SLiPBD', columns=[DataColumn(name=Name(root='anbooking_record'), dataType='character', description='Flag to show if the pregnancy has associated antenatal booking data sourced from the antenatal booking collection database and/or SMR02 database', sensitive=False, values=None)]), DataTable(name='SLiPBD', description='SLiPBD', columns=[DataColumn(name=Name(root='antenatal_booking_date'), dataType='date', description='Date of antenatal booking appointment', sensitive=False, values=None)]), DataTable(name='SLiPBD', description='SLiPBD', columns=[DataColumn(name=Name(root='gestation_at_booking'), dataType='numeric', description='Gestation in weeks at booking appointment', sensitive=False, values=None)]), DataTable(name='SLiPBD', description='SLiPBD', columns=[DataColumn(name=Name(root='nhs_board_treatment_booking'), dataType='character', description='Mother NHS Board of Treatment (NAME) at booking', sensitive=False, values=None)]), DataTable(name='SLiPBD', description='SLiPBD', columns=[DataColumn(name=Name(root='nhs_board_treatment_end_name'), dataType='character', description='Mother NHS Board of Treatment (NAME) at end of pregnancy', sensitive=False, values=None)]), DataTable(name='SLiPBD', description='SLiPBD', columns=[DataColumn(name=Name(root='location_care_end_pregnancy'), dataType='character', description='5 character alphanumeric code for Hospital/other location of end of pregnancy', sensitive=False, values=None)]), DataTable(name='SLiPBD', description='SLiPBD', columns=[DataColumn(name=Name(root='maternal_height'), dataType='numeric', description='Mother height in cm', sensitive=False, values=None)]), DataTable(name='SLiPBD', description='SLiPBD', columns=[DataColumn(name=Name(root='maternal_weight'), dataType='numeric', description='Mother weight in kg', sensitive=False, values=None)]), DataTable(name='SLiPBD', description='SLiPBD', columns=[DataColumn(name=Name(root='maternal_bmi'), dataType='numeric', description='Mother BMI', sensitive=False, values=None)]), DataTable(name='SLiPBD', description='SLiPBD', columns=[DataColumn(name=Name(root='maternal_smoking'), dataType='character', description='Mother smoking status', sensitive=False, values=None)]), DataTable(name='SLiPBD', description='SLiPBD', columns=[DataColumn(name=Name(root='induction_of_labour'), dataType='numeric', description='Indicates if and how labour has been induced', sensitive=False, values=None)]), DataTable(name='SLiPBD', description='SLiPBD', columns=[DataColumn(name=Name(root='presentation_at_delivery'), dataType='character', description='Presentation at delivery is the part of the fetus which is lowest in relation to the position within the maternal pelvis', sensitive=False, values=None)]), DataTable(name='SLiPBD', description='SLiPBD', columns=[DataColumn(name=Name(root='onset_delivery'), dataType='character', description='Description of onset of delivery', sensitive=False, values=None)]), DataTable(name='SLiPBD', description='SLiPBD', columns=[DataColumn(name=Name(root='mode_delivery'), dataType='character', description='The method by which the baby is delivered', sensitive=False, values=None)]), DataTable(name='SLiPBD', description='SLiPBD', columns=[DataColumn(name=Name(root='perineal_tear'), dataType='character', description='This field indicates the extent of tissues torn by the delivery of the baby.', sensitive=False, values=None)]), DataTable(name='SLiPBD', description='SLiPBD', columns=[DataColumn(name=Name(root='fetus_marker'), dataType='numeric', description='Baby number to distinguish babies in a multiple pregnancy', sensitive=False, values=None)]), DataTable(name='SLiPBD', description='SLiPBD', columns=[DataColumn(name=Name(root='baby_sex'), dataType='character', description=\"Baby's Sex\", sensitive=False, values=None)]), DataTable(name='SLiPBD', description='SLiPBD', columns=[DataColumn(name=Name(root='baby_ethnicity_code'), dataType='character', description='Baby ethnicity code', sensitive=False, values=None)]), DataTable(name='SLiPBD', description='SLiPBD', columns=[DataColumn(name=Name(root='baby_ethnicity'), dataType='character', description='Baby ethnicity', sensitive=False, values=None)]), DataTable(name='SLiPBD', description='SLiPBD', columns=[DataColumn(name=Name(root='birthweight'), dataType='numeric', description=\"Baby's birth weight in grams\", sensitive=False, values=None)]), DataTable(name='SLiPBD', description='SLiPBD', columns=[DataColumn(name=Name(root='birthweight_centile'), dataType='numeric', description='Birthweight centile for gestational age and sex', sensitive=False, values=None)]), DataTable(name='SLiPBD', description='SLiPBD', columns=[DataColumn(name=Name(root='apgar'), dataType='character', description='A score based on assessment of 5 variables in the baby, each rated from 0-2 (0 worst, 2 best). (A = Appearance, P = Pulse, G = Grimace, A = Activity, R = Respiration)', sensitive=False, values=None)]), DataTable(name='SLiPBD', description='SLiPBD', columns=[DataColumn(name=Name(root='selective_reduction_flag'), dataType='Logical', description='Did a selective reduction take place?\\n\\nSelective reduction is a technique for intrauterine termination of one or more fetuses in a multiple pregnancy, as a result of identified risk, with continued pregnancy with one or more fetuses', sensitive=False, values=None)]), DataTable(name='SLiPBD', description='SLiPBD', columns=[DataColumn(name=Name(root='abortion_of_fetus_died_in_utero'), dataType='numeric', description='Flag to show if there has been an abortion of a dead fetus of a multiple pregnancy where that fetus died before 24 weeks in which there is at least one live birth. (The pregnancy may have continued after the \\xa0fetal death, so the whole pregnancy did not necessarily end \\xa0< 24 weeks). \\n\\nThese fetuses are given their own row in SLiPBD and have fetus_outcome1=Miscarriage', sensitive=False, values=None)]), DataTable(name='SLiPBD', description='SLiPBD', columns=[DataColumn(name=Name(root='infant_death'), dataType='numeric', description='Flag to show if an infant death has occurred', sensitive=False, values=None)]), DataTable(name='SLiPBD', description='SLiPBD', columns=[DataColumn(name=Name(root='date_infant_death'), dataType='date', description='Date of infant death', sensitive=False, values=None)]), DataTable(name='SLiPBD', description='SLiPBD', columns=[DataColumn(name=Name(root='type_infant_death'), dataType='character', description='Type of infant death', sensitive=False, values=None)]), DataTable(name='SLiPBD', description='SLiPBD', columns=[DataColumn(name=Name(root='underlying_cause_infant_death'), dataType='character', description='The underlying cause of death is defined as the disease or injury which initiated the chain of morbid events leading directly to death, or the accident/act which produced the fatal injury', sensitive=False, values=None)]), DataTable(name='SLiPBD', description='SLiPBD', columns=[DataColumn(name=Name(root='other_cause_infant_death_0'), dataType='character', description='Contributory cause of death', sensitive=False, values=None)]), DataTable(name='SLiPBD', description='SLiPBD', columns=[DataColumn(name=Name(root='other_cause_infant_death_1'), dataType='character', description='Contributory cause of death', sensitive=False, values=None)]), DataTable(name='SLiPBD', description='SLiPBD', columns=[DataColumn(name=Name(root='other_cause_infant_death_2'), dataType='character', description='Contributory cause of death', sensitive=False, values=None)]), DataTable(name='SLiPBD', description='SLiPBD', columns=[DataColumn(name=Name(root='other_cause_infant_death_3'), dataType='character', description='Contributory cause of death', sensitive=False, values=None)]), DataTable(name='SLiPBD', description='SLiPBD', columns=[DataColumn(name=Name(root='other_cause_infant_death_4'), dataType='character', description='Contributory cause of death', sensitive=False, values=None)]), DataTable(name='SLiPBD', description='SLiPBD', columns=[DataColumn(name=Name(root='other_cause_infant_death_5'), dataType='character', description='Contributory cause of death', sensitive=False, values=None)]), DataTable(name='SLiPBD', description='SLiPBD', columns=[DataColumn(name=Name(root='other_cause_infant_death_6'), dataType='character', description='Contributory cause of death', sensitive=False, values=None)]), DataTable(name='SLiPBD', description='SLiPBD', columns=[DataColumn(name=Name(root='other_cause_infant_death_7'), dataType='character', description='Contributory cause of death', sensitive=False, values=None)]), DataTable(name='SLiPBD', description='SLiPBD', columns=[DataColumn(name=Name(root='other_cause_infant_death_8'), dataType='character', description='Contributory cause of death', sensitive=False, values=None)]), DataTable(name='SLiPBD', description='SLiPBD', columns=[DataColumn(name=Name(root='other_cause_infant_death_9'), dataType='character', description='Contributory cause of death', sensitive=False, values=None)]), DataTable(name='SLiPBD', description='SLiPBD', columns=[DataColumn(name=Name(root='maternal_country_birth'), dataType='character', description='Mother country of birth (CODE)', sensitive=False, values=None)]), DataTable(name='SLiPBD', description='SLiPBD', columns=[DataColumn(name=Name(root='maternal_country_birth_group'), dataType='character', description='Mother country of birth group (NAME)', sensitive=False, values=None)]), DataTable(name='SLiPBD', description='SLiPBD', columns=[DataColumn(name=Name(root='maternal_NS_SEC_analytical_end_pregnancy'), dataType='numeric', description='Mother National Statistics Socio-Economic Classification (NS-SEC) at end of pregnancy(used from 2001)', sensitive=False, values=None)]), DataTable(name='SLiPBD', description='SLiPBD', columns=[DataColumn(name=Name(root='paternal_postcode_end_preg'), dataType='character', description='Father postcode at end of pregnancy', sensitive=False, values=None)]), DataTable(name='SLiPBD', description='SLiPBD', columns=[DataColumn(name=Name(root='paternal_country_birth'), dataType='character', description='Father country of birth (CODE)', sensitive=False, values=None)]), DataTable(name='SLiPBD', description='SLiPBD', columns=[DataColumn(name=Name(root='paternal_country_birth_group'), dataType='character', description='Father country of birth group (NAME)', sensitive=False, values=None)]), DataTable(name='SLiPBD', description='SLiPBD', columns=[DataColumn(name=Name(root='paternal_NS_SEC_analytical_end_pregnancy'), dataType='numeric', description='Father National Statistics Socio-Economic Classification (NS-SEC) at end of pregnancy (used from 2001)', sensitive=False, values=None)]), DataTable(name='SLiPBD', description='SLiPBD', columns=[DataColumn(name=Name(root='parents_married_indicator'), dataType='character', description='Parents marriage status indicator', sensitive=False, values=None)]), DataTable(name='SLiPBD', description='SLiPBD', columns=[DataColumn(name=Name(root='primary_household_person'), dataType='character', description='Primary person in household indicator', sensitive=False, values=None)]), DataTable(name='SLiPBD', description='SLiPBD', columns=[DataColumn(name=Name(root='primary_household_NS_SEC_end_pregnancy'), dataType='numeric', description='Primary National Statistics Socio-Economic Classification (NS-SEC) at end of pregnancy (used from 2001)', sensitive=False, values=None)]), DataTable(name='SLiPBD', description='SLiPBD', columns=[DataColumn(name=Name(root='sourceABC'), dataType='numeric', description='flagging that data in this record was (partly) sourced from Antenatal booking collection database', sensitive=False, values=None)]), DataTable(name='SLiPBD', description='SLiPBD', columns=[DataColumn(name=Name(root='sourceNRS'), dataType='numeric', description='flagging that data in this record was (partly) sourced from NRS births records', sensitive=False, values=None)]), DataTable(name='SLiPBD', description='SLiPBD', columns=[DataColumn(name=Name(root='sourceSMR01'), dataType='numeric', description='flagging that data in this record was (partly) sourced from the SMR01 database', sensitive=False, values=None)]), DataTable(name='SLiPBD', description='SLiPBD', columns=[DataColumn(name=Name(root='sourceSMR02'), dataType='numeric', description='flagging that data in this record was (partly) sourced from SMR02 database', sensitive=False, values=None)]), DataTable(name='SLiPBD', description='SLiPBD', columns=[DataColumn(name=Name(root='sourceToPs'), dataType='numeric', description='flagging that data in this record was (partly) sourced from AAS/ToPs database', sensitive=False, values=None)])], tissuesSampleCollection=[TissuesSampleCollection(id=None, dataCategories=None, materialType=CommaSeparatedValuesV2(root='None/not available'), accessConditions=None, collectionType=None, disease=None, storageTemperature=None, sampleAgeRange=None, tissueSampleMetadata=None)], demographicFrequency=None, omics=None)"
      ]
     },
     "execution_count": 18,
     "metadata": {},
     "output_type": "execute_result"
    }
   ],
   "source": [
    "Gwdm20(**data[0])"
   ]
  },
  {
   "cell_type": "code",
   "execution_count": 19,
   "id": "04a0f00f-ae19-4d8e-a0c7-13d9751ae29a",
   "metadata": {},
   "outputs": [
    {
     "data": {
      "text/plain": [
       "CommaSeparatedValuesV2(root='Administrative')"
      ]
     },
     "execution_count": 19,
     "metadata": {},
     "output_type": "execute_result"
    }
   ],
   "source": [
    "model = Gwdm20(**data[0])\n",
    "model.provenance.origin.purpose"
   ]
  },
  {
   "cell_type": "code",
   "execution_count": 20,
   "id": "95b94f14-fa3f-4b09-bfb7-e6926c943b2f",
   "metadata": {},
   "outputs": [
    {
     "name": "stderr",
     "output_type": "stream",
     "text": [
      "/var/folders/ft/8y2p5ppd3yn4lvv1qs3wcy6c0000gp/T/ipykernel_72830/3254514480.py:1: PydanticDeprecatedSince20: The `schema_json` method is deprecated; use `model_json_schema` and json.dumps instead. Deprecated in Pydantic V2.0 to be removed in V3.0. See Pydantic V2 Migration Guide at https://errors.pydantic.dev/2.4/migration/\n",
      "  model.provenance.origin.purpose.schema_json()\n"
     ]
    },
    {
     "data": {
      "text/plain": [
       "'{\"anyOf\": [{\"pattern\": \"([^,]*)\", \"type\": \"string\"}, {\"type\": \"null\"}], \"title\": \"CommaSeparatedValuesV2\"}'"
      ]
     },
     "execution_count": 20,
     "metadata": {},
     "output_type": "execute_result"
    }
   ],
   "source": [
    "model.provenance.origin.purpose.schema_json()"
   ]
  },
  {
   "cell_type": "code",
   "execution_count": 21,
   "id": "3ba8dafd-a108-4e8a-bcd4-b00749302693",
   "metadata": {},
   "outputs": [
    {
     "data": {
      "text/plain": [
       "'\"Administrative\"'"
      ]
     },
     "execution_count": 21,
     "metadata": {},
     "output_type": "execute_result"
    }
   ],
   "source": [
    "model.provenance.origin.purpose.model_dump_json()"
   ]
  },
  {
   "cell_type": "code",
   "execution_count": 22,
   "id": "274e0649-48ad-4ee7-be03-39ce1bf55353",
   "metadata": {},
   "outputs": [
    {
     "data": {
      "text/plain": [
       "Gwdm20(required=Required(gatewayId=1179, gatewayPid='03891ac5-3a2a-4da1-8e5b-1d9c7b3dfb63', issued=datetime.datetime(2025, 2, 26, 14, 9, 43, tzinfo=TzInfo(UTC)), modified=datetime.datetime(2025, 2, 26, 14, 9, 43, tzinfo=TzInfo(UTC)), revisions=[Revision(version='1.0.0', url=Url(root=Url('http://www.example.com/')))], version='1.0.0'), summary=Summary(title=TwoHundredFiftyFiveCharacters(root='Children and Young People Children in Need (CYP CIN)'), shortTitle=ShortTitle(root='Children and Young People Children in Need (CYP CIN)'), doiName=None, abstract=LongAbstractText(root='Children and Young People CIN Census data includes the following information shared by Local Authorities:\\n- Child Idnetifiers / Characteristics\\n- Referrals\\n- Assessments\\n- Section 47 Enquiries\\n- CIN (Children In Need) & CPP (Child Protection Plans and reviews)'), keywords=CommaSeparatedValuesV2(root='Discover-NOW;,;Pathway;,;Real World data;,;Linked longitudinal;,;CYP;,;Children and Younger People;,;CIN;,;Children In Need;,;Social Care;,;Section 47;,;CPP;,;Child Protection Plan'), controlledKeywords=CommaSeparatedValuesV2(root=''), contactPoint='discovernow@imperialcollegehealthpartners.com', datasetType=CommaSeparatedValuesV2(root='Health and disease;,;Treatments/Interventions'), description=LongDescription(root='Local Authority ‘Children in Need’ (CIN) data is linked with health data that is held in the NWL’s Whole Systems Integrated Care (WSIC) platform, to help better understand the needs of children within a Local Authority.\\nBi-borough and Harrow are piloting this data sharing, with IG already in place and approved to enable the data to be shared directly to WSIC.\\nCombining this data will help improve developmental, safeguarding, and wellbeing outcomes for children and young people, by providing analysis which gives a more informed understanding of children and young people. Analysis of the impacts of the wider determinants of health would also be possible, helping NHS Practitioners, DCSs, and their teams to identify and prioritise opportunities for development and improvement of the service offer, to best support the most vulnerable children and young people and their families.\\nSpecific use cases could include:\\n•Understanding the health needs of children in contact with children’s services, by analysing specific health events experienced across cohorts, such as, long-term conditions e.g., Mental Health, and A&E visits.\\n•Geographically mapping the level of need within a Local Authority, using the combined data to inform the level of need, using data points such as the proportion of children: in contact with children’s services, with mental health conditions, visiting A&E, with care plans.'), publisher=Organisation(name=Name(root='London Secure Data Environment (SDE)'), gatewayId=28, rorId=None), populationSize=-1, datasetSubType=CommaSeparatedValuesV2(root='Not applicable'), inPipeline=<Pipeline.NOT_AVAILABLE: 'Not available'>), coverage=Coverage(spatial=CommaSeparatedValuesV2(root='United Kingdom, England, London, Kensington & Chelsea, Westminster, Harrow'), pathway=LongDescription(root='This dataset contains all children and young people activity (CYP) for NWL patients in the following local authorities: Kensington & Chelsea, Westminster and Harrow. Each patient will be identified by an unique patient key that can be used to link to other Discover-NOW datasets to track the patient pathway.'), followUp=<FollowupV2.field__10_YEARS: '> 10 Years'>, typicalAgeRange=AgeRange(root='0-18'), datasetCompleteness=None), provenance=Provenance(origin=Origin(purpose=CommaSeparatedValuesV2(root=''), source=CommaSeparatedValuesV2(root='EPR'), collectionSituation=CommaSeparatedValuesV2(root='Local authority'), imageContrast='Not stated'), temporal=Temporal(startDate=datetime.datetime(2018, 4, 1, 15, 35, 15, tzinfo=TzInfo(UTC)), endDate=datetime.datetime(2023, 3, 31, 15, 35, 36, tzinfo=TzInfo(UTC)), timeLag=<TimeLagV2.ONE_TWO_MONTHS: '1-2 months'>, accrualPeriodicity=<PeriodicityV2.ANNUAL: 'Annual'>, distributionReleaseDate=datetime.datetime(2024, 4, 1, 15, 34, 49, tzinfo=TzInfo(UTC)))), accessibility=Accessibility(usage=Usage(dataUseLimitation=CommaSeparatedValuesV2(root='No restriction'), dataUseRequirement=CommaSeparatedValuesV2(root='Collaboration required;,;Institution-specific restrictions;,;Project-specific restrictions;,;Time limit on use;,;User-specific restriction'), resourceCreator=Organisation(name=Name(root='NHS NWL ICS + Discover-NOW'), gatewayId=None, rorId=None)), access=Access(accessRights=CommaSeparatedValuesV2(root='https://discover-now.co.uk/make-an-enquiry/'), accessService=LongDescription(root=\"Researchers will have access to a VDI environment with a specific username and password. The researchers will get access to the datasets that is present in the hub's catalogue and would be able to carry out their research within the safe haven. There are restrictions applied which prevents the researchers from taking data out of the safe haven, once the research/analysis is completed the admin team will need to be contacted for taking the analysis off the safe haven.\"), accessRequestCost=LongDescription(root='In Progress'), deliveryLeadTime=<DeliveryLeadTimeV2.ONE_TWO_MONTHS: '1-2 months'>, jurisdiction=CommaSeparatedValuesV2(root='UK'), dataController=LongDescription(root='Joint data controller model across North West London'), dataProcessor=LongDescription(root='London Secure Data Environment (SDE)\\nNHS North West London ICB\\nNHS North East London ICB'), accessServiceCategory=CommaSeparatedValuesV2(root='TRE/SDE')), formatAndStandards=FormatAndStandards(vocabularyEncodingSchemes=None, conformsTo=None, languages=CommaSeparatedValuesV2(root='en'), formats=CommaSeparatedValuesV2(root='Excel;,;SQL;,;Tableau;,;R'))), linkage=Linkage(isGeneratedUsing=None, associatedMedia=CommaSeparatedValuesV2(root='https://discover-now.co.uk/the-data/, https://www.nwlondonics.nhs.uk/professionals/whole-systems-integrated-care-wsic/information-de-identified-users'), dataUses=None, isReferenceIn=None, tools=CommaSeparatedValuesV2(root=''), datasetLinkage=None, investigations=CommaSeparatedValuesV2(root=''), syntheticDataWebLink=None, publicationAboutDataset=[], publicationUsingDataset=[]), observations=[], structuralMetadata=[], tissuesSampleCollection=[TissuesSampleCollection(id=None, dataCategories=None, materialType=CommaSeparatedValuesV2(root='None/not available'), accessConditions=None, collectionType=None, disease=None, storageTemperature=None, sampleAgeRange=None, tissueSampleMetadata=None)], demographicFrequency=None, omics=None)"
      ]
     },
     "execution_count": 22,
     "metadata": {},
     "output_type": "execute_result"
    }
   ],
   "source": [
    "Gwdm20(**data[1])"
   ]
  },
  {
   "cell_type": "code",
   "execution_count": 23,
   "id": "f1737d13-5e46-472d-890f-724c6b5a5847",
   "metadata": {},
   "outputs": [
    {
     "data": {
      "text/plain": [
       "{'purpose': '', 'source': 'EPR', 'collectionSituation': 'Local authority'}"
      ]
     },
     "execution_count": 23,
     "metadata": {},
     "output_type": "execute_result"
    }
   ],
   "source": [
    "data[1]['provenance']['origin']"
   ]
  },
  {
   "cell_type": "code",
   "execution_count": null,
   "id": "95d48b42-4d9a-4a05-9c5a-02cfefab6354",
   "metadata": {},
   "outputs": [],
   "source": []
  },
  {
   "cell_type": "code",
   "execution_count": null,
   "id": "c1a75471-105d-42c3-bb8f-a9e6569ec9d8",
   "metadata": {},
   "outputs": [],
   "source": []
  },
  {
   "cell_type": "code",
   "execution_count": null,
   "id": "d1359567-ec98-4900-abd5-e3f64181242d",
   "metadata": {},
   "outputs": [],
   "source": []
  },
  {
   "cell_type": "code",
   "execution_count": null,
   "id": "779b26eb-40ef-4e99-ba7e-c30b17c071d1",
   "metadata": {},
   "outputs": [],
   "source": []
  },
  {
   "cell_type": "code",
   "execution_count": null,
   "id": "4babfc9b-29b6-4880-8be8-7635b1b9e2b8",
   "metadata": {},
   "outputs": [],
   "source": []
  },
  {
   "cell_type": "code",
   "execution_count": null,
   "id": "f62479af-de09-4256-8e4d-a07be8d39d8d",
   "metadata": {},
   "outputs": [],
   "source": []
  },
  {
   "cell_type": "code",
   "execution_count": null,
   "id": "734c4761-3a01-4537-969a-11046057921d",
   "metadata": {},
   "outputs": [],
   "source": []
  },
  {
   "cell_type": "code",
   "execution_count": null,
   "id": "6694e14b-3a16-4b09-9035-fff4a43c2b62",
   "metadata": {},
   "outputs": [],
   "source": []
  },
  {
   "cell_type": "code",
   "execution_count": null,
   "id": "89b88bcc-3ba8-4ca7-87b0-32afac4d52c6",
   "metadata": {},
   "outputs": [],
   "source": []
  },
  {
   "cell_type": "code",
   "execution_count": null,
   "id": "fdfdf0ec-b34c-4a6e-b573-f1721a6a8781",
   "metadata": {},
   "outputs": [],
   "source": []
  },
  {
   "cell_type": "code",
   "execution_count": null,
   "id": "a34f3217-612c-41ee-bce3-d4a9384146cd",
   "metadata": {},
   "outputs": [],
   "source": []
  },
  {
   "cell_type": "code",
   "execution_count": null,
   "id": "11e0e5ae-80fd-40a2-b80c-080240ce922c",
   "metadata": {},
   "outputs": [],
   "source": []
  },
  {
   "cell_type": "code",
   "execution_count": null,
   "id": "27ea57a5-6431-4de0-a5c4-23f11af99cc2",
   "metadata": {},
   "outputs": [],
   "source": []
  },
  {
   "cell_type": "code",
   "execution_count": null,
   "id": "45d1c779-b11e-4b22-a2d8-fe77f80f594d",
   "metadata": {},
   "outputs": [],
   "source": []
  },
  {
   "cell_type": "code",
   "execution_count": null,
   "id": "b396a2b5-523c-4c8a-a066-6fe68308446d",
   "metadata": {},
   "outputs": [],
   "source": []
  },
  {
   "cell_type": "code",
   "execution_count": null,
   "id": "0cda4f0b-bda9-4e26-8a66-ce8009ebd575",
   "metadata": {},
   "outputs": [],
   "source": []
  },
  {
   "cell_type": "code",
   "execution_count": null,
   "id": "b0982bac-f412-4884-8f49-96ef904c41c3",
   "metadata": {},
   "outputs": [],
   "source": []
  }
 ],
 "metadata": {
  "kernelspec": {
   "display_name": "Python 3 (ipykernel)",
   "language": "python",
   "name": "python3"
  },
  "language_info": {
   "codemirror_mode": {
    "name": "ipython",
    "version": 3
   },
   "file_extension": ".py",
   "mimetype": "text/x-python",
   "name": "python",
   "nbconvert_exporter": "python",
   "pygments_lexer": "ipython3",
   "version": "3.12.9"
  }
 },
 "nbformat": 4,
 "nbformat_minor": 5
}
