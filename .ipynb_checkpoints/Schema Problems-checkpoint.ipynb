{
 "cells": [
  {
   "cell_type": "code",
   "execution_count": null,
   "id": "fef4d5df-7b98-4393-b856-39535bf34458",
   "metadata": {},
   "outputs": [],
   "source": [
    "%load_ext autoreload\n",
    "%autoreload 2"
   ]
  },
  {
   "cell_type": "code",
   "execution_count": null,
   "id": "9337ba13-a6ca-4234-9ee4-9d7d6e0bfa1b",
   "metadata": {
    "jupyter": {
     "source_hidden": true
    }
   },
   "outputs": [],
   "source": [
    "ls ../"
   ]
  },
  {
   "cell_type": "code",
   "execution_count": null,
   "id": "69f3fd46-2e34-46e9-9856-23c75872d262",
   "metadata": {},
   "outputs": [],
   "source": [
    "ls ../schemata-2/hdr_schemata/models/GWDM/v2_0/"
   ]
  },
  {
   "cell_type": "code",
   "execution_count": null,
   "id": "406d8c74-6005-409a-b89b-37daac0d1c7e",
   "metadata": {},
   "outputs": [],
   "source": [
    "pip install --no-cache-dir pydantic-core\n"
   ]
  },
  {
   "cell_type": "code",
   "execution_count": null,
   "id": "4c8c765f-f92e-4375-8701-db3ef3937eeb",
   "metadata": {},
   "outputs": [],
   "source": [
    "pip install -e ../schemata-2/"
   ]
  },
  {
   "cell_type": "code",
   "execution_count": null,
   "id": "91129f22-3f7c-487d-bfee-eeced0498a46",
   "metadata": {},
   "outputs": [],
   "source": [
    "from hdr_schemata.models.GWDM import Gwdm20 "
   ]
  },
  {
   "cell_type": "code",
   "execution_count": null,
   "id": "182babf0-cef6-42e1-bd22-4932d3ebf38d",
   "metadata": {},
   "outputs": [],
   "source": [
    "Gwdm20"
   ]
  },
  {
   "cell_type": "code",
   "execution_count": null,
   "id": "81e616c1-669a-48a8-9fd5-7d2860df7af1",
   "metadata": {},
   "outputs": [],
   "source": [
    "import requests"
   ]
  },
  {
   "cell_type": "code",
   "execution_count": null,
   "id": "19e866cf-18e7-4836-a06a-ceeb1f01f32b",
   "metadata": {},
   "outputs": [],
   "source": [
    "API_KEY='o0mSdnQjnAff6HUkVuje4sJ0fDLrw3xLzAm3HKI7'\n",
    "CLIENT_KEY='NDY7l7PcTDVQrRsukGJd6NCkS2xvIvlBaMTe9dH1'"
   ]
  },
  {
   "cell_type": "code",
   "execution_count": null,
   "id": "fc30ca49-6304-4625-b21a-95bbd78631cf",
   "metadata": {},
   "outputs": [],
   "source": [
    "import requests\n",
    "\n",
    "url = \"https://api.healthdatagateway.org/api/v1/datasets?per_page=25\"\n",
    "headers = {\n",
    "    \"x-application-id\": API_KEY,\n",
    "    \"x-client-id\":CLIENT_KEY\n",
    "}\n",
    "\n",
    "response = requests.get(url, headers)\n",
    "data = [x['latest_metadata']['metadata']['metadata'] for x in response.json()['data']]"
   ]
  },
  {
   "cell_type": "markdown",
   "id": "49cad706-adb8-4273-9f6a-10b8f5d0ebfb",
   "metadata": {},
   "source": [
    "bug here...."
   ]
  },
  {
   "cell_type": "code",
   "execution_count": null,
   "id": "fb838424-a42f-4328-bdf1-58ab17a7c6a6",
   "metadata": {},
   "outputs": [],
   "source": [
    "url = \"https://api.healthdatagateway.org/api/v1/integrations/datasets?per_page=25\"\n",
    "headers = {\n",
    "    \"x-application-id\": API_KEY,\n",
    "    \"x-client-id\":CLIENT_KEY\n",
    "}\n",
    "\n",
    "response = requests.get(url, headers)\n",
    "response.json()"
   ]
  },
  {
   "cell_type": "code",
   "execution_count": null,
   "id": "34cb5316-fb07-4520-b643-430920aa086e",
   "metadata": {},
   "outputs": [],
   "source": [
    "len(data)"
   ]
  },
  {
   "cell_type": "code",
   "execution_count": null,
   "id": "fa0279af-7392-42a7-a654-de2744b97007",
   "metadata": {},
   "outputs": [],
   "source": [
    "data[21]"
   ]
  },
  {
   "cell_type": "code",
   "execution_count": null,
   "id": "19d88e93-d26a-40d0-9bc7-d6e0c7b27aa2",
   "metadata": {},
   "outputs": [],
   "source": [
    "model = Gwdm20(**data[21])\n",
    "model"
   ]
  },
  {
   "cell_type": "code",
   "execution_count": null,
   "id": "7cf6d5e7-224c-463e-9fe4-da1dd7f9db80",
   "metadata": {},
   "outputs": [],
   "source": [
    "model.summary.abstract"
   ]
  },
  {
   "cell_type": "code",
   "execution_count": null,
   "id": "841a829a-f3c3-4cf6-b236-4a0a240d8808",
   "metadata": {},
   "outputs": [],
   "source": [
    "model.summary.title"
   ]
  },
  {
   "cell_type": "code",
   "execution_count": 2,
   "id": "cd6d00c1-f7ec-4b3e-ba36-fe186356c531",
   "metadata": {},
   "outputs": [
    {
     "ename": "NameError",
     "evalue": "name 'data' is not defined",
     "output_type": "error",
     "traceback": [
      "\u001b[31m---------------------------------------------------------------------------\u001b[39m",
      "\u001b[31mNameError\u001b[39m                                 Traceback (most recent call last)",
      "\u001b[36mCell\u001b[39m\u001b[36m \u001b[39m\u001b[32mIn[2]\u001b[39m\u001b[32m, line 3\u001b[39m\n\u001b[32m      1\u001b[39m models = [\n\u001b[32m      2\u001b[39m     Gwdm20(**d)\n\u001b[32m----> \u001b[39m\u001b[32m3\u001b[39m     \u001b[38;5;28;01mfor\u001b[39;00m d \u001b[38;5;129;01min\u001b[39;00m \u001b[43mdata\u001b[49m \n\u001b[32m      4\u001b[39m ]\n",
      "\u001b[31mNameError\u001b[39m: name 'data' is not defined"
     ]
    }
   ],
   "source": [
    "models = [\n",
    "    (print(d), Gwdm20(**d))[1]\n",
    "    for d in data\n",
    "]"
   ]
  },
  {
   "cell_type": "code",
   "execution_count": null,
   "id": "4ae1ced7-2310-4e9b-917f-df86578b5aa5",
   "metadata": {},
   "outputs": [],
   "source": [
    "Gwdm20(**data[0])"
   ]
  },
  {
   "cell_type": "code",
   "execution_count": null,
   "id": "04a0f00f-ae19-4d8e-a0c7-13d9751ae29a",
   "metadata": {},
   "outputs": [],
   "source": [
    "model = Gwdm20(**data[0])\n",
    "model.provenance.origin.purpose"
   ]
  },
  {
   "cell_type": "code",
   "execution_count": null,
   "id": "95b94f14-fa3f-4b09-bfb7-e6926c943b2f",
   "metadata": {},
   "outputs": [],
   "source": [
    "model.provenance.origin.purpose.schema_json()"
   ]
  },
  {
   "cell_type": "code",
   "execution_count": null,
   "id": "3ba8dafd-a108-4e8a-bcd4-b00749302693",
   "metadata": {},
   "outputs": [],
   "source": [
    "model.provenance.origin.purpose.model_dump_json()"
   ]
  },
  {
   "cell_type": "code",
   "execution_count": null,
   "id": "274e0649-48ad-4ee7-be03-39ce1bf55353",
   "metadata": {},
   "outputs": [],
   "source": [
    "Gwdm20(**data[1])"
   ]
  },
  {
   "cell_type": "code",
   "execution_count": null,
   "id": "f1737d13-5e46-472d-890f-724c6b5a5847",
   "metadata": {},
   "outputs": [],
   "source": [
    "data[1]['provenance']['origin']"
   ]
  },
  {
   "cell_type": "code",
   "execution_count": null,
   "id": "95d48b42-4d9a-4a05-9c5a-02cfefab6354",
   "metadata": {},
   "outputs": [],
   "source": []
  },
  {
   "cell_type": "code",
   "execution_count": null,
   "id": "c1a75471-105d-42c3-bb8f-a9e6569ec9d8",
   "metadata": {},
   "outputs": [],
   "source": []
  },
  {
   "cell_type": "code",
   "execution_count": null,
   "id": "d1359567-ec98-4900-abd5-e3f64181242d",
   "metadata": {},
   "outputs": [],
   "source": []
  },
  {
   "cell_type": "code",
   "execution_count": null,
   "id": "779b26eb-40ef-4e99-ba7e-c30b17c071d1",
   "metadata": {},
   "outputs": [],
   "source": []
  },
  {
   "cell_type": "code",
   "execution_count": null,
   "id": "4babfc9b-29b6-4880-8be8-7635b1b9e2b8",
   "metadata": {},
   "outputs": [],
   "source": []
  },
  {
   "cell_type": "code",
   "execution_count": null,
   "id": "f62479af-de09-4256-8e4d-a07be8d39d8d",
   "metadata": {},
   "outputs": [],
   "source": []
  },
  {
   "cell_type": "code",
   "execution_count": null,
   "id": "734c4761-3a01-4537-969a-11046057921d",
   "metadata": {},
   "outputs": [],
   "source": []
  },
  {
   "cell_type": "code",
   "execution_count": null,
   "id": "6694e14b-3a16-4b09-9035-fff4a43c2b62",
   "metadata": {},
   "outputs": [],
   "source": []
  },
  {
   "cell_type": "code",
   "execution_count": null,
   "id": "89b88bcc-3ba8-4ca7-87b0-32afac4d52c6",
   "metadata": {},
   "outputs": [],
   "source": []
  },
  {
   "cell_type": "code",
   "execution_count": null,
   "id": "fdfdf0ec-b34c-4a6e-b573-f1721a6a8781",
   "metadata": {},
   "outputs": [],
   "source": []
  },
  {
   "cell_type": "code",
   "execution_count": null,
   "id": "a34f3217-612c-41ee-bce3-d4a9384146cd",
   "metadata": {},
   "outputs": [],
   "source": []
  },
  {
   "cell_type": "code",
   "execution_count": null,
   "id": "11e0e5ae-80fd-40a2-b80c-080240ce922c",
   "metadata": {},
   "outputs": [],
   "source": []
  },
  {
   "cell_type": "code",
   "execution_count": null,
   "id": "27ea57a5-6431-4de0-a5c4-23f11af99cc2",
   "metadata": {},
   "outputs": [],
   "source": []
  },
  {
   "cell_type": "code",
   "execution_count": null,
   "id": "45d1c779-b11e-4b22-a2d8-fe77f80f594d",
   "metadata": {},
   "outputs": [],
   "source": []
  },
  {
   "cell_type": "code",
   "execution_count": null,
   "id": "b396a2b5-523c-4c8a-a066-6fe68308446d",
   "metadata": {},
   "outputs": [],
   "source": []
  },
  {
   "cell_type": "code",
   "execution_count": null,
   "id": "0cda4f0b-bda9-4e26-8a66-ce8009ebd575",
   "metadata": {},
   "outputs": [],
   "source": []
  },
  {
   "cell_type": "code",
   "execution_count": null,
   "id": "b0982bac-f412-4884-8f49-96ef904c41c3",
   "metadata": {},
   "outputs": [],
   "source": []
  }
 ],
 "metadata": {
  "kernelspec": {
   "display_name": "Python 3 (ipykernel)",
   "language": "python",
   "name": "python3"
  },
  "language_info": {
   "codemirror_mode": {
    "name": "ipython",
    "version": 3
   },
   "file_extension": ".py",
   "mimetype": "text/x-python",
   "name": "python",
   "nbconvert_exporter": "python",
   "pygments_lexer": "ipython3",
   "version": "3.12.9"
  }
 },
 "nbformat": 4,
 "nbformat_minor": 5
}
